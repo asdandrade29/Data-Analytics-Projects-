{
 "cells": [
  {
   "cell_type": "markdown",
   "metadata": {},
   "source": [
    "# Health Survey Data Analysis\n",
    "\n",
    "Adrianna DAndrade "
   ]
  },
  {
   "cell_type": "markdown",
   "metadata": {},
   "source": [
    "## Executive Summary\n",
    "\n",
    "The goal of this project is to determine whether or not there is a difference in health based on whether or not someone is renting or owning property. The findings conclude there is a statistically significant difference between homeowners and renters"
   ]
  },
  {
   "cell_type": "markdown",
   "metadata": {},
   "source": [
    "## The Data\n",
    "\n",
    "The data used for this analysis is from the CDC Behavioral Risk Factor Surveillance System (BRFSS).Specifically this subset of the data represents survey responses from the 2020-2021 survey in the state of New York. The survey contains over 10,000 responses. The 'PHYSHLTH' is the respose to the question 'Now thinking about your physical health, which includes physical illness and injury, for how many days during the past 30 days was your physical health not good?'. The 'RENTHOM1' column is the demographoc feature response answering 'Do you own or rent your home?'. "
   ]
  },
  {
   "cell_type": "code",
   "execution_count": 302,
   "metadata": {},
   "outputs": [],
   "source": [
    "import matplotlib.pyplot as plt\n",
    "import numpy as np\n",
    "import pandas as pd\n",
    "import scipy.stats as stats\n",
    "import math\n",
    "\n",
    "file_path = \"https://raw.githubusercontent.com/learn-co-curriculum/da-phase3-project-enterprise/main/brfss_ny.csv\"\n",
    "df = pd.read_csv(file_path)"
   ]
  },
  {
   "cell_type": "markdown",
   "metadata": {},
   "source": [
    "## Data Preparation\n",
    "\n",
    "First, I checked for any blank values for PHYSHLTH column. There was no blank values. I then replaced all 88.0 values with 0. Lastly, I deleted all values that were not in the range of 0-30 for the PHYSHLTH column. For the RENTHOM1 column I deleted all values that were not rent or home, 1 or 2 respectively. "
   ]
  },
  {
   "cell_type": "code",
   "execution_count": 303,
   "metadata": {},
   "outputs": [
    {
     "data": {
      "text/plain": [
       "0"
      ]
     },
     "execution_count": 303,
     "metadata": {},
     "output_type": "execute_result"
    }
   ],
   "source": [
    "# Check for missing Values \n",
    "df['PHYSHLTH'].isna().sum()"
   ]
  },
  {
   "cell_type": "code",
   "execution_count": 304,
   "metadata": {},
   "outputs": [
    {
     "data": {
      "text/plain": [
       "14769"
      ]
     },
     "execution_count": 304,
     "metadata": {},
     "output_type": "execute_result"
    }
   ],
   "source": [
    "#Replace 88.0 with 0 to reflect no non-healthy days \n",
    "df['PHYSHLTH'].replace(88.0,0, inplace=True)\n",
    "df['PHYSHLTH'].count()"
   ]
  },
  {
   "cell_type": "code",
   "execution_count": 305,
   "metadata": {},
   "outputs": [
    {
     "data": {
      "text/plain": [
       "_STATE      14440\n",
       "FMONTH      14440\n",
       "IDATE       14440\n",
       "IMONTH      14440\n",
       "IDAY        14440\n",
       "            ...  \n",
       "_STOLDNA     6032\n",
       "_VIRCOLN     5936\n",
       "_SBONTIM     6874\n",
       "_CRCREC1     6013\n",
       "_AIDTST4    12831\n",
       "Length: 279, dtype: int64"
      ]
     },
     "execution_count": 305,
     "metadata": {},
     "output_type": "execute_result"
    }
   ],
   "source": [
    "#Remove null values and check \n",
    "df1 = df[df.PHYSHLTH <= 30 ]\n",
    "df1.count()"
   ]
  },
  {
   "cell_type": "code",
   "execution_count": 306,
   "metadata": {},
   "outputs": [
    {
     "data": {
      "image/png": "[encoded data removed]",
      "text/plain": [
       "<Figure size 700x500 with 1 Axes>"
      ]
     },
     "metadata": {
      "needs_background": "light"
     },
     "output_type": "display_data"
    }
   ],
   "source": [
    "#Check distribution of PHYSHLTH\n",
    "x = df1['PHYSHLTH']\n",
    "plt.hist(x);"
   ]
  },
  {
   "cell_type": "code",
   "execution_count": 307,
   "metadata": {},
   "outputs": [],
   "source": [
    "# Seperate Renters from Homeowners\n",
    "REN = df1.loc[(df['RENTHOM1'] <= 2)]\n",
    "REN1 = df1.loc[(df['RENTHOM1'] == 1)]\n",
    "REN2 = df1.loc[(df['RENTHOM1'] == 2)]"
   ]
  },
  {
   "cell_type": "code",
   "execution_count": 308,
   "metadata": {},
   "outputs": [
    {
     "data": {
      "text/plain": [
       "count    13659.000000\n",
       "mean         1.381141\n",
       "std          0.485685\n",
       "min          1.000000\n",
       "25%          1.000000\n",
       "50%          1.000000\n",
       "75%          2.000000\n",
       "max          2.000000\n",
       "Name: RENTHOM1, dtype: float64"
      ]
     },
     "execution_count": 308,
     "metadata": {},
     "output_type": "execute_result"
    }
   ],
   "source": [
    "# Check RENTHOM1 column \n",
    "REN['RENTHOM1'].describe()"
   ]
  },
  {
   "cell_type": "markdown",
   "metadata": {},
   "source": [
    "## Confidence Interval for Mean of `PHYSHLTH`"
   ]
  },
  {
   "cell_type": "code",
   "execution_count": 309,
   "metadata": {},
   "outputs": [
    {
     "data": {
      "text/plain": [
       "30.0"
      ]
     },
     "execution_count": 309,
     "metadata": {},
     "output_type": "execute_result"
    }
   ],
   "source": [
    "#Check PHYSHLTH column\n",
    "df1['PHYSHLTH'].max()"
   ]
  },
  {
   "cell_type": "code",
   "execution_count": 310,
   "metadata": {},
   "outputs": [
    {
     "name": "stdout",
     "output_type": "stream",
     "text": [
      "3.0837950138504153\n"
     ]
    },
    {
     "data": {
      "text/plain": [
       "7.5927152785971"
      ]
     },
     "execution_count": 310,
     "metadata": {},
     "output_type": "execute_result"
    }
   ],
   "source": [
    "#Calculate mean an standard deviation of PHYSHLTH\n",
    "print(PH1_mean)\n",
    "PH1_std"
   ]
  },
  {
   "cell_type": "code",
   "execution_count": 311,
   "metadata": {},
   "outputs": [
    {
     "data": {
      "text/plain": [
       "14440"
      ]
     },
     "execution_count": 311,
     "metadata": {},
     "output_type": "execute_result"
    }
   ],
   "source": [
    "#Calculate Sample Size\n",
    "PH1_size = df1['PHYSHLTH'].count()\n",
    "PH1_size"
   ]
  },
  {
   "cell_type": "code",
   "execution_count": 312,
   "metadata": {},
   "outputs": [
    {
     "name": "stdout",
     "output_type": "stream",
     "text": [
      "(2.9798650503830366, 3.187724977317794)\n"
     ]
    }
   ],
   "source": [
    "# Calculate a 95% confidence interval about the mean of PHYSHLTH\n",
    "PH1_mean = df1['PHYSHLTH'].mean()\n",
    "PH1_std = df1['PHYSHLTH'].std()\n",
    "PH1_se = PH1_std/math.sqrt(PH1_size)\n",
    "z = stats.norm.ppf(q = 0.95)\n",
    "PH1_moe = z * (PH1_std/math.sqrt(14440))\n",
    "PH1_moe\n",
    "PH1_conf = (PH1_mean - PH1_moe, PH1_mean + PH1_moe)\n",
    "print(PH1_conf)"
   ]
  },
  {
   "cell_type": "code",
   "execution_count": 313,
   "metadata": {},
   "outputs": [
    {
     "data": {
      "text/plain": [
       "(2.959944238356734, 3.2076457893440966)"
      ]
     },
     "execution_count": 313,
     "metadata": {},
     "output_type": "execute_result"
    }
   ],
   "source": [
    "# Calculate a 95% confidence interval about the mean of PHYSHLTH(T-distribution method)\n",
    "PH1_mean = df1['PHYSHLTH'].mean()\n",
    "ci_tstat = stats.t.interval(\n",
    "    alpha=0.95,         # Confidence level\n",
    "    df=PH1_size  - 279, # Degrees of freedom\n",
    "    loc=PH1_mean,    # Sample mean\n",
    "    scale=PH1_se            # Standard error\n",
    ")\n",
    "ci_tstat"
   ]
  },
  {
   "cell_type": "markdown",
   "metadata": {},
   "source": [
    "# Interpretation of Confidence Interval\n",
    "If we pulled 14440 samples and constructed confidence intervals in the same manner, we would expect that 95 of the intervals would contain the true mean of population age."
   ]
  },
  {
   "cell_type": "markdown",
   "metadata": {},
   "source": [
    "# Split the data based on `RENTHOM1` in Markdown\n",
    "\n",
    "    To split the data based on RENTHOM1 means that we are seperating respondants based on whether or not they rent or own A home"
   ]
  },
  {
   "cell_type": "code",
   "execution_count": 314,
   "metadata": {},
   "outputs": [],
   "source": [
    "# separate the records based on the value of RENTHOM1\n",
    "REN1 = df1.loc[(df['RENTHOM1'] == 1)]\n",
    "REN2 = df1.loc[(df['RENTHOM1'] == 2)]"
   ]
  },
  {
   "cell_type": "code",
   "execution_count": 315,
   "metadata": {},
   "outputs": [],
   "source": [
    "# Seperatethe above records with respect to PHYSHLTH\n",
    "phy1_diff = REN1['PHYSHLTH']\n",
    "phy2_diff = REN2['PHYSHLTH']"
   ]
  },
  {
   "cell_type": "code",
   "execution_count": 316,
   "metadata": {},
   "outputs": [],
   "source": [
    "#Calculate mean of both groups \n",
    "phy1_diff_mean = phy1_diff.mean()\n",
    "phy2_diff_mean = phy2_diff.mean()"
   ]
  },
  {
   "cell_type": "code",
   "execution_count": 317,
   "metadata": {},
   "outputs": [
    {
     "data": {
      "image/png": "[encoded data removed]",
      "text/plain": [
       "<Figure size 700x500 with 1 Axes>"
      ]
     },
     "metadata": {
      "needs_background": "light"
     },
     "output_type": "display_data"
    }
   ],
   "source": [
    "# Plots that show the value of PHYSHLTH based on the value of RENTHOM1\n",
    "plt.rcParams.update({'figure.figsize':(7,5), 'figure.dpi':100})\n",
    "kwargs = dict(alpha=0.5, bins=5)\n",
    "\n",
    "plt.hist(phy1_diff, **kwargs, color='g', label='Own')\n",
    "plt.hist(phy2_diff, **kwargs, color='r', label='Rent')\n",
    "plt.gca().set(title='Frequency Histogram of Responses', ylabel='Number of Responses', xlabel = 'Non-Healthy Days in Month')\n",
    "plt.ylim(0,9000)\n",
    "plt.xlim(0,30)\n",
    "plt.legend();"
   ]
  },
  {
   "cell_type": "markdown",
   "metadata": {},
   "source": [
    "# Explanation of Plot\n",
    "According to the plot, the number of responses who have more non-healthy days tend to rent as opposed to own a home. "
   ]
  },
  {
   "cell_type": "markdown",
   "metadata": {},
   "source": [
    "# Hypothesis of 2-tailed \n",
    "\n",
    "𝐻0 : The mean difference between renter and owners groups is zero, 𝜇0=𝜇1\n",
    "\n",
    "𝐻1(2-tailed, >): The parameter of interest, our mean difference between renters and owners, is different than zero."
   ]
  },
  {
   "cell_type": "code",
   "execution_count": 318,
   "metadata": {},
   "outputs": [
    {
     "data": {
      "text/plain": [
       "Ttest_indResult(statistic=-7.653280527933314, pvalue=2.0902050539473093e-14)"
      ]
     },
     "execution_count": 318,
     "metadata": {},
     "output_type": "execute_result"
    }
   ],
   "source": [
    "stats.ttest_ind(phy1_diff, phy2_diff)"
   ]
  },
  {
   "cell_type": "markdown",
   "metadata": {},
   "source": [
    "# Interpretation of Results \n",
    "\n",
    "We can reject the null hypothesis at an alpha of 0.05. A p-value less than 0.05 (typically ≤ 0.05) is statistically significant. It indicates strong evidence against the null hypothesis, as there is less than a 5% probability the null is correct (and the results are random). Therefore, we reject the null hypothesis, and accept the alternative hypothesis."
   ]
  },
  {
   "cell_type": "markdown",
   "metadata": {},
   "source": [
    "## Next Steps : Proposistion\n",
    "\n",
    "\n",
    "I would propose using the amount of excercise(EXERANY2) respondants do to control for any other factors that might contribute to having good health. "
   ]
  }
 ],
 "metadata": {
  "kernelspec": {
   "display_name": "Python 3",
   "language": "python",
   "name": "python3"
  },
  "language_info": {
   "codemirror_mode": {
    "name": "ipython",
    "version": 3
   },
   "file_extension": ".py",
   "mimetype": "text/x-python",
   "name": "python",
   "nbconvert_exporter": "python",
   "pygments_lexer": "ipython3",
   "version": "3.9.5"
  }
 },
 "nbformat": 4,
 "nbformat_minor": 4
}
